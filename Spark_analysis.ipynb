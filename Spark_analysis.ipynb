{
 "cells": [
  {
   "attachments": {},
   "cell_type": "markdown",
   "metadata": {},
   "source": [
    "# **PySpark Analysis: NYC TLC Trips Records (FHVHV) Data Feb 2021**"
   ]
  },
  {
   "attachments": {},
   "cell_type": "markdown",
   "metadata": {},
   "source": [
    "**by: Febrianti**"
   ]
  },
  {
   "attachments": {},
   "cell_type": "markdown",
   "metadata": {},
   "source": [
    "## **Set Up**"
   ]
  },
  {
   "cell_type": "code",
   "execution_count": 28,
   "metadata": {},
   "outputs": [],
   "source": [
    "# Import libraries\n",
    "import pyspark\n",
    "from pyspark.sql import SparkSession\n",
    "import pandas as pd\n",
    "import pandas_gbq\n",
    "\n",
    "import warnings\n",
    "warnings.filterwarnings('ignore')"
   ]
  },
  {
   "cell_type": "code",
   "execution_count": 29,
   "metadata": {},
   "outputs": [],
   "source": [
    "spark = SparkSession.builder\\\n",
    "        .master(\"local[*]\")\\\n",
    "        .appName('tripdata_21-02')\\\n",
    "        .getOrCreate()"
   ]
  },
  {
   "cell_type": "code",
   "execution_count": 30,
   "metadata": {},
   "outputs": [
    {
     "name": "stdout",
     "output_type": "stream",
     "text": [
      "--2023-03-18 16:53:53--  https://d37ci6vzurychx.cloudfront.net/trip-data/fhvhv_tripdata_2021-02.parquet\n",
      "Resolving d37ci6vzurychx.cloudfront.net (d37ci6vzurychx.cloudfront.net)... 18.161.108.141, 18.161.108.231, 18.161.108.77, ...\n",
      "Connecting to d37ci6vzurychx.cloudfront.net (d37ci6vzurychx.cloudfront.net)|18.161.108.141|:443... connected.\n",
      "HTTP request sent, awaiting response... 200 OK\n",
      "Length: 302633211 (289M) [application/x-www-form-urlencoded]\n",
      "Saving to: 'fhvhv_tripdata_2021-02.parquet.1'\n",
      "\n",
      "ipdata_2021-02.parq  14%[=>                  ]  40.95M  3.03MB/s    eta 90s    ^C\n"
     ]
    }
   ],
   "source": [
    "# Download dataset from website\n",
    "!wget https://d37ci6vzurychx.cloudfront.net/trip-data/fhvhv_tripdata_2021-02.parquet"
   ]
  },
  {
   "cell_type": "code",
   "execution_count": null,
   "metadata": {},
   "outputs": [],
   "source": [
    "# Read parquet file using pandas\n",
    "df = pd.read_parquet('fhvhv_tripdata_2021-02.parquet')"
   ]
  },
  {
   "cell_type": "code",
   "execution_count": null,
   "metadata": {},
   "outputs": [
    {
     "data": {
      "text/html": [
       "<div>\n",
       "<style scoped>\n",
       "    .dataframe tbody tr th:only-of-type {\n",
       "        vertical-align: middle;\n",
       "    }\n",
       "\n",
       "    .dataframe tbody tr th {\n",
       "        vertical-align: top;\n",
       "    }\n",
       "\n",
       "    .dataframe thead th {\n",
       "        text-align: right;\n",
       "    }\n",
       "</style>\n",
       "<table border=\"1\" class=\"dataframe\">\n",
       "  <thead>\n",
       "    <tr style=\"text-align: right;\">\n",
       "      <th></th>\n",
       "      <th>hvfhs_license_num</th>\n",
       "      <th>dispatching_base_num</th>\n",
       "      <th>originating_base_num</th>\n",
       "      <th>request_datetime</th>\n",
       "      <th>on_scene_datetime</th>\n",
       "      <th>pickup_datetime</th>\n",
       "      <th>dropoff_datetime</th>\n",
       "      <th>PULocationID</th>\n",
       "      <th>DOLocationID</th>\n",
       "      <th>trip_miles</th>\n",
       "      <th>...</th>\n",
       "      <th>sales_tax</th>\n",
       "      <th>congestion_surcharge</th>\n",
       "      <th>airport_fee</th>\n",
       "      <th>tips</th>\n",
       "      <th>driver_pay</th>\n",
       "      <th>shared_request_flag</th>\n",
       "      <th>shared_match_flag</th>\n",
       "      <th>access_a_ride_flag</th>\n",
       "      <th>wav_request_flag</th>\n",
       "      <th>wav_match_flag</th>\n",
       "    </tr>\n",
       "  </thead>\n",
       "  <tbody>\n",
       "    <tr>\n",
       "      <th>0</th>\n",
       "      <td>HV0003</td>\n",
       "      <td>B02764</td>\n",
       "      <td>B02764</td>\n",
       "      <td>2021-01-31 23:59:00</td>\n",
       "      <td>2021-02-01 00:10:19</td>\n",
       "      <td>2021-02-01 00:10:40</td>\n",
       "      <td>2021-02-01 00:21:09</td>\n",
       "      <td>35</td>\n",
       "      <td>39</td>\n",
       "      <td>2.060</td>\n",
       "      <td>...</td>\n",
       "      <td>1.52</td>\n",
       "      <td>0.0</td>\n",
       "      <td>NaN</td>\n",
       "      <td>0.0</td>\n",
       "      <td>9.79</td>\n",
       "      <td>N</td>\n",
       "      <td>N</td>\n",
       "      <td></td>\n",
       "      <td>N</td>\n",
       "      <td>N</td>\n",
       "    </tr>\n",
       "    <tr>\n",
       "      <th>1</th>\n",
       "      <td>HV0003</td>\n",
       "      <td>B02764</td>\n",
       "      <td>B02764</td>\n",
       "      <td>2021-02-01 00:13:35</td>\n",
       "      <td>2021-02-01 00:25:23</td>\n",
       "      <td>2021-02-01 00:27:23</td>\n",
       "      <td>2021-02-01 00:44:01</td>\n",
       "      <td>39</td>\n",
       "      <td>35</td>\n",
       "      <td>3.150</td>\n",
       "      <td>...</td>\n",
       "      <td>2.85</td>\n",
       "      <td>0.0</td>\n",
       "      <td>NaN</td>\n",
       "      <td>0.0</td>\n",
       "      <td>24.01</td>\n",
       "      <td>N</td>\n",
       "      <td>N</td>\n",
       "      <td></td>\n",
       "      <td>N</td>\n",
       "      <td>N</td>\n",
       "    </tr>\n",
       "    <tr>\n",
       "      <th>2</th>\n",
       "      <td>HV0005</td>\n",
       "      <td>B02510</td>\n",
       "      <td>None</td>\n",
       "      <td>2021-02-01 00:12:55</td>\n",
       "      <td>NaT</td>\n",
       "      <td>2021-02-01 00:28:38</td>\n",
       "      <td>2021-02-01 00:38:27</td>\n",
       "      <td>39</td>\n",
       "      <td>91</td>\n",
       "      <td>1.776</td>\n",
       "      <td>...</td>\n",
       "      <td>1.12</td>\n",
       "      <td>0.0</td>\n",
       "      <td>NaN</td>\n",
       "      <td>0.0</td>\n",
       "      <td>6.91</td>\n",
       "      <td>N</td>\n",
       "      <td>N</td>\n",
       "      <td>N</td>\n",
       "      <td>N</td>\n",
       "      <td>N</td>\n",
       "    </tr>\n",
       "    <tr>\n",
       "      <th>3</th>\n",
       "      <td>HV0005</td>\n",
       "      <td>B02510</td>\n",
       "      <td>None</td>\n",
       "      <td>2021-02-01 00:36:01</td>\n",
       "      <td>NaT</td>\n",
       "      <td>2021-02-01 00:43:37</td>\n",
       "      <td>2021-02-01 01:23:20</td>\n",
       "      <td>91</td>\n",
       "      <td>228</td>\n",
       "      <td>13.599</td>\n",
       "      <td>...</td>\n",
       "      <td>2.91</td>\n",
       "      <td>0.0</td>\n",
       "      <td>NaN</td>\n",
       "      <td>7.0</td>\n",
       "      <td>35.05</td>\n",
       "      <td>N</td>\n",
       "      <td>N</td>\n",
       "      <td>N</td>\n",
       "      <td>N</td>\n",
       "      <td>N</td>\n",
       "    </tr>\n",
       "    <tr>\n",
       "      <th>4</th>\n",
       "      <td>HV0003</td>\n",
       "      <td>B02872</td>\n",
       "      <td>B02872</td>\n",
       "      <td>2021-01-31 23:57:50</td>\n",
       "      <td>2021-02-01 00:08:25</td>\n",
       "      <td>2021-02-01 00:08:42</td>\n",
       "      <td>2021-02-01 00:17:57</td>\n",
       "      <td>126</td>\n",
       "      <td>250</td>\n",
       "      <td>2.620</td>\n",
       "      <td>...</td>\n",
       "      <td>1.38</td>\n",
       "      <td>0.0</td>\n",
       "      <td>NaN</td>\n",
       "      <td>0.0</td>\n",
       "      <td>8.53</td>\n",
       "      <td>N</td>\n",
       "      <td>N</td>\n",
       "      <td></td>\n",
       "      <td>N</td>\n",
       "      <td>N</td>\n",
       "    </tr>\n",
       "  </tbody>\n",
       "</table>\n",
       "<p>5 rows × 24 columns</p>\n",
       "</div>"
      ],
      "text/plain": [
       "  hvfhs_license_num dispatching_base_num originating_base_num  \\\n",
       "0            HV0003               B02764               B02764   \n",
       "1            HV0003               B02764               B02764   \n",
       "2            HV0005               B02510                 None   \n",
       "3            HV0005               B02510                 None   \n",
       "4            HV0003               B02872               B02872   \n",
       "\n",
       "     request_datetime   on_scene_datetime     pickup_datetime  \\\n",
       "0 2021-01-31 23:59:00 2021-02-01 00:10:19 2021-02-01 00:10:40   \n",
       "1 2021-02-01 00:13:35 2021-02-01 00:25:23 2021-02-01 00:27:23   \n",
       "2 2021-02-01 00:12:55                 NaT 2021-02-01 00:28:38   \n",
       "3 2021-02-01 00:36:01                 NaT 2021-02-01 00:43:37   \n",
       "4 2021-01-31 23:57:50 2021-02-01 00:08:25 2021-02-01 00:08:42   \n",
       "\n",
       "     dropoff_datetime  PULocationID  DOLocationID  trip_miles  ...  sales_tax  \\\n",
       "0 2021-02-01 00:21:09            35            39       2.060  ...       1.52   \n",
       "1 2021-02-01 00:44:01            39            35       3.150  ...       2.85   \n",
       "2 2021-02-01 00:38:27            39            91       1.776  ...       1.12   \n",
       "3 2021-02-01 01:23:20            91           228      13.599  ...       2.91   \n",
       "4 2021-02-01 00:17:57           126           250       2.620  ...       1.38   \n",
       "\n",
       "   congestion_surcharge  airport_fee  tips  driver_pay  shared_request_flag  \\\n",
       "0                   0.0          NaN   0.0        9.79                    N   \n",
       "1                   0.0          NaN   0.0       24.01                    N   \n",
       "2                   0.0          NaN   0.0        6.91                    N   \n",
       "3                   0.0          NaN   7.0       35.05                    N   \n",
       "4                   0.0          NaN   0.0        8.53                    N   \n",
       "\n",
       "   shared_match_flag  access_a_ride_flag  wav_request_flag wav_match_flag  \n",
       "0                  N                                     N              N  \n",
       "1                  N                                     N              N  \n",
       "2                  N                   N                 N              N  \n",
       "3                  N                   N                 N              N  \n",
       "4                  N                                     N              N  \n",
       "\n",
       "[5 rows x 24 columns]"
      ]
     },
     "execution_count": 4,
     "metadata": {},
     "output_type": "execute_result"
    }
   ],
   "source": [
    "# Displays the top 5 data\n",
    "df.head(5)"
   ]
  },
  {
   "cell_type": "code",
   "execution_count": null,
   "metadata": {},
   "outputs": [
    {
     "name": "stderr",
     "output_type": "stream",
     "text": [
      "                                                                                \r"
     ]
    }
   ],
   "source": [
    "# Read parquet file using spark\n",
    "df = spark.read \\\n",
    "    .option(\"header\", \"true\") \\\n",
    "    .parquet('fhvhv_tripdata_2021-02.parquet')"
   ]
  },
  {
   "attachments": {},
   "cell_type": "markdown",
   "metadata": {},
   "source": [
    "**notes**: read parquet file using spark takes only 5.5s while using pandas is 20.7s"
   ]
  },
  {
   "cell_type": "code",
   "execution_count": null,
   "metadata": {},
   "outputs": [
    {
     "name": "stdout",
     "output_type": "stream",
     "text": [
      "root\n",
      " |-- hvfhs_license_num: string (nullable = true)\n",
      " |-- dispatching_base_num: string (nullable = true)\n",
      " |-- originating_base_num: string (nullable = true)\n",
      " |-- request_datetime: timestamp (nullable = true)\n",
      " |-- on_scene_datetime: timestamp (nullable = true)\n",
      " |-- pickup_datetime: timestamp (nullable = true)\n",
      " |-- dropoff_datetime: timestamp (nullable = true)\n",
      " |-- PULocationID: long (nullable = true)\n",
      " |-- DOLocationID: long (nullable = true)\n",
      " |-- trip_miles: double (nullable = true)\n",
      " |-- trip_time: long (nullable = true)\n",
      " |-- base_passenger_fare: double (nullable = true)\n",
      " |-- tolls: double (nullable = true)\n",
      " |-- bcf: double (nullable = true)\n",
      " |-- sales_tax: double (nullable = true)\n",
      " |-- congestion_surcharge: double (nullable = true)\n",
      " |-- airport_fee: double (nullable = true)\n",
      " |-- tips: double (nullable = true)\n",
      " |-- driver_pay: double (nullable = true)\n",
      " |-- shared_request_flag: string (nullable = true)\n",
      " |-- shared_match_flag: string (nullable = true)\n",
      " |-- access_a_ride_flag: string (nullable = true)\n",
      " |-- wav_request_flag: string (nullable = true)\n",
      " |-- wav_match_flag: string (nullable = true)\n",
      "\n"
     ]
    }
   ],
   "source": [
    "# Check schema\n",
    "df.printSchema()"
   ]
  },
  {
   "cell_type": "code",
   "execution_count": null,
   "metadata": {},
   "outputs": [],
   "source": [
    "# sets as a temporary view so we can apply SQL syntax to query it\n",
    "df.createOrReplaceTempView('tripdata')"
   ]
  },
  {
   "attachments": {},
   "cell_type": "markdown",
   "metadata": {},
   "source": [
    "### **1. How many taxi trips were there on February 15?**"
   ]
  },
  {
   "cell_type": "code",
   "execution_count": null,
   "metadata": {},
   "outputs": [
    {
     "name": "stderr",
     "output_type": "stream",
     "text": [
      "[Stage 1:============================================>              (3 + 1) / 4]\r"
     ]
    },
    {
     "name": "stdout",
     "output_type": "stream",
     "text": [
      "+-----------+\n",
      "|trips_feb15|\n",
      "+-----------+\n",
      "|     425928|\n",
      "+-----------+\n",
      "\n"
     ]
    },
    {
     "name": "stderr",
     "output_type": "stream",
     "text": [
      "                                                                                \r"
     ]
    }
   ],
   "source": [
    "trips_feb15 = spark.sql(\n",
    "    \"\"\"\n",
    "    SELECT\n",
    "        COUNT(*) trips_feb15 \n",
    "    FROM \n",
    "        tripdata\n",
    "    Where\n",
    "        CAST(pickup_datetime AS date) = '2021-02-15' \n",
    "    \"\"\"\n",
    ")\n",
    "trips_feb15.show()"
   ]
  },
  {
   "attachments": {},
   "cell_type": "markdown",
   "metadata": {},
   "source": [
    "### **2. Find the longest trip for each day!**"
   ]
  },
  {
   "cell_type": "code",
   "execution_count": null,
   "metadata": {},
   "outputs": [
    {
     "name": "stderr",
     "output_type": "stream",
     "text": [
      "[Stage 4:============================================>              (3 + 1) / 4]\r"
     ]
    },
    {
     "name": "stdout",
     "output_type": "stream",
     "text": [
      "+----------+------------+\n",
      "|      date|longest_trip|\n",
      "+----------+------------+\n",
      "|2021-02-01|      212.43|\n",
      "|2021-02-02|      282.78|\n",
      "|2021-02-03|      184.26|\n",
      "|2021-02-04|      203.97|\n",
      "|2021-02-05|      245.35|\n",
      "|2021-02-06|      275.32|\n",
      "|2021-02-07|      216.36|\n",
      "|2021-02-08|       253.5|\n",
      "|2021-02-09|      480.73|\n",
      "|2021-02-10|       512.5|\n",
      "+----------+------------+\n",
      "only showing top 10 rows\n",
      "\n"
     ]
    },
    {
     "name": "stderr",
     "output_type": "stream",
     "text": [
      "                                                                                \r"
     ]
    }
   ],
   "source": [
    "longest_trip = spark.sql(\n",
    "    \"\"\"\n",
    "    SELECT \n",
    "        CAST(pickup_datetime AS date) date,\n",
    "        MAX(trip_miles) AS longest_trip\n",
    "    FROM tripdata\n",
    "    WHERE pickup_datetime IS NOT NULL\n",
    "    GROUP BY 1\n",
    "    ORDER BY 1\n",
    "    \"\"\"\n",
    ")\n",
    "longest_trip.show(10)\n"
   ]
  },
  {
   "attachments": {},
   "cell_type": "markdown",
   "metadata": {},
   "source": [
    "### **3. Find Top 5 Most frequent dispatching_base_num!**"
   ]
  },
  {
   "cell_type": "code",
   "execution_count": null,
   "metadata": {},
   "outputs": [
    {
     "name": "stderr",
     "output_type": "stream",
     "text": [
      "[Stage 7:============================================>              (3 + 1) / 4]\r"
     ]
    },
    {
     "name": "stdout",
     "output_type": "stream",
     "text": [
      "+-------------------------+----------+\n",
      "|top5_dispatching_base_num|total_trip|\n",
      "+-------------------------+----------+\n",
      "|                   B02510|   3233664|\n",
      "|                   B02764|    965568|\n",
      "|                   B02872|    882689|\n",
      "|                   B02875|    685390|\n",
      "|                   B02765|    559768|\n",
      "+-------------------------+----------+\n",
      "\n"
     ]
    },
    {
     "name": "stderr",
     "output_type": "stream",
     "text": [
      "                                                                                \r"
     ]
    }
   ],
   "source": [
    "top5_dbn = spark.sql(\n",
    "    \"\"\"\n",
    "    SELECT\n",
    "        dispatching_base_num AS top5_dispatching_base_num,\n",
    "        count(dispatching_base_num) AS total_trip\n",
    "    FROM \n",
    "        tripdata\n",
    "    GROUP BY 1\n",
    "    ORDER BY 2 DESC\n",
    "    LIMIT 5\n",
    "    \"\"\"\n",
    ")\n",
    "top5_dbn.show()\n"
   ]
  },
  {
   "attachments": {},
   "cell_type": "markdown",
   "metadata": {},
   "source": [
    "### **4. Find Top 5 Most common location pairs (PUlocationID and DOlocationID)!**"
   ]
  },
  {
   "cell_type": "code",
   "execution_count": null,
   "metadata": {},
   "outputs": [
    {
     "name": "stderr",
     "output_type": "stream",
     "text": [
      "[Stage 10:===========================================>              (3 + 1) / 4]\r"
     ]
    },
    {
     "name": "stdout",
     "output_type": "stream",
     "text": [
      "+------------+------------+----------+\n",
      "|PULocationID|DOLocationID|total_trip|\n",
      "+------------+------------+----------+\n",
      "|          76|          76|     45041|\n",
      "|          26|          26|     37329|\n",
      "|          39|          39|     28026|\n",
      "|          61|          61|     25976|\n",
      "|          14|          14|     17934|\n",
      "+------------+------------+----------+\n",
      "\n"
     ]
    },
    {
     "name": "stderr",
     "output_type": "stream",
     "text": [
      "                                                                                \r"
     ]
    }
   ],
   "source": [
    "com_loc_pairs = spark.sql(\n",
    "    \"\"\"\n",
    "    SELECT\n",
    "        PULocationID,\n",
    "        DOLocationID,\n",
    "        COUNT(*) AS total_trip\n",
    "    FROM\n",
    "        tripdata\n",
    "    GROUP BY 1,2\n",
    "    ORDER BY 3 DESC\n",
    "    LIMIT 5 \n",
    "\n",
    "    \"\"\"\n",
    ")\n",
    "com_loc_pairs.show()"
   ]
  },
  {
   "attachments": {},
   "cell_type": "markdown",
   "metadata": {},
   "source": [
    "### **5. Write all of the result to BigQuery table**"
   ]
  },
  {
   "cell_type": "code",
   "execution_count": 41,
   "metadata": {},
   "outputs": [],
   "source": [
    "# Change to pandas dataframe\n",
    "pd_trips_feb15 = trips_feb15.toPandas()\n",
    "pd_longest_trip = longest_trip.toPandas()\n",
    "pd_top5_dbn = top5_dbn.toPandas()\n",
    "pd_com_loc_pairs = com_loc_pairs.toPandas()"
   ]
  },
  {
   "cell_type": "code",
   "execution_count": 38,
   "metadata": {},
   "outputs": [],
   "source": [
    "pd_longest_trip['date'] = pd_longest_trip['date'].astype(str)\n",
    "pd_longest_trip['date'] = pd_longest_trip['date'].apply(pd.to_datetime)"
   ]
  },
  {
   "cell_type": "code",
   "execution_count": 40,
   "metadata": {},
   "outputs": [
    {
     "name": "stderr",
     "output_type": "stream",
     "text": [
      "100%|██████████| 1/1 [00:00<00:00, 3236.35it/s]\n",
      "100%|██████████| 1/1 [00:00<00:00, 1926.64it/s]\n",
      "100%|██████████| 1/1 [00:00<00:00, 3116.12it/s]\n",
      "100%|██████████| 1/1 [00:00<00:00, 2222.74it/s]\n"
     ]
    }
   ],
   "source": [
    "# Droject id on Google Cloud Platform\n",
    "project_id = 'datafellowship9'\n",
    "\n",
    "# Dataset id where we want to store data\n",
    "dataset_id = 'fhvhv_feb21'\n",
    "\n",
    "# Create function to load data\n",
    "def load_to_bq(df, table_name):\n",
    "    pandas_gbq.to_gbq(df, f'{dataset_id}.{table_name}', project_id=project_id)\n",
    "\n",
    "# Call function to load data\n",
    "load_to_bq(pd_trips_feb15, 'trips_feb15')\n",
    "load_to_bq(pd_longest_trip, 'longest_trip')\n",
    "load_to_bq(pd_top5_dbn, 'top5_dbn')\n",
    "load_to_bq(pd_com_loc_pairs, 'com_loc_pairs')"
   ]
  },
  {
   "attachments": {},
   "cell_type": "markdown",
   "metadata": {},
   "source": [
    "**Check the result on BigQuery:**"
   ]
  },
  {
   "attachments": {},
   "cell_type": "markdown",
   "metadata": {},
   "source": [
    "![Screenshot 2023-03-18 at 16.33.18.png](data:image/png;base64,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)"
   ]
  },
  {
   "attachments": {},
   "cell_type": "markdown",
   "metadata": {},
   "source": [
    "**Check one of the tables if the contents match:**"
   ]
  },
  {
   "attachments": {},
   "cell_type": "markdown",
   "metadata": {},
   "source": [
    "![Screenshot 2023-03-18 at 16.33.26.png](data:image/png;base64,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)"
   ]
  },
  {
   "cell_type": "markdown",
   "metadata": {},
   "source": []
  }
 ],
 "metadata": {
  "kernelspec": {
   "display_name": "base",
   "language": "python",
   "name": "python3"
  },
  "language_info": {
   "codemirror_mode": {
    "name": "ipython",
    "version": 3
   },
   "file_extension": ".py",
   "mimetype": "text/x-python",
   "name": "python",
   "nbconvert_exporter": "python",
   "pygments_lexer": "ipython3",
   "version": "3.9.13"
  },
  "orig_nbformat": 4
 },
 "nbformat": 4,
 "nbformat_minor": 2
}
